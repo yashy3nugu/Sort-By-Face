{
 "cells": [
  {
   "cell_type": "markdown",
   "metadata": {},
   "source": [
    "# Import Necessary Libraries"
   ]
  },
  {
   "cell_type": "code",
   "execution_count": 18,
   "metadata": {},
   "outputs": [],
   "source": [
    "import pickle\n",
    "import numpy as np\n",
    "import networkx as nx\n",
    "import os\n",
    "import shutil\n",
    "import math\n",
    "from random import shuffle"
   ]
  },
  {
   "cell_type": "markdown",
   "metadata": {},
   "source": [
    "#### Importing chinese whispers algorithm\n",
    "As we have already defined the clustering algorithm in `clusterer.py` we can directly import it"
   ]
  },
  {
   "cell_type": "code",
   "execution_count": 2,
   "metadata": {},
   "outputs": [],
   "source": [
    "from clusterer import chineseWhispers"
   ]
  },
  {
   "cell_type": "markdown",
   "metadata": {},
   "source": [
    "The embeddings for the faces in the dataset (LFW in this case) should be loaded. The embeddings can be computed from the script\n",
    "`embedder.py`"
   ]
  },
  {
   "cell_type": "markdown",
   "metadata": {},
   "source": [
    "# Run Chinese Whispers on the embeddings"
   ]
  },
  {
   "cell_type": "code",
   "execution_count": 4,
   "metadata": {},
   "outputs": [],
   "source": [
    "data = pickle.load(open(\"embeddings_pool.pickle\",\"rb\"))"
   ]
  },
  {
   "cell_type": "markdown",
   "metadata": {},
   "source": [
    "Since the embeddings are loaded we can then create the graph"
   ]
  },
  {
   "cell_type": "code",
   "execution_count": null,
   "metadata": {},
   "outputs": [],
   "source": [
    "graph = chineseWhispers(data,0.8,20)\n",
    "# Takes about 5 minutes for this dataset"
   ]
  },
  {
   "cell_type": "markdown",
   "metadata": {},
   "source": [
    "# Calculate Evaluation Metric"
   ]
  },
  {
   "cell_type": "markdown",
   "metadata": {},
   "source": [
    "The evaluation metric used is the F-score.  \n",
    "F-score is defined as the harmonic mean of precision and recall.\n",
    "\n",
    "F-score = (2*precison*recall)/(precision + recall) \n",
    "(Replace with latex later)\n",
    "\n",
    "We will first calculate the precision and recall using True positives, False positives and False negatives"
   ]
  },
  {
   "cell_type": "code",
   "execution_count": 14,
   "metadata": {},
   "outputs": [],
   "source": [
    "# Define function for nCr\n",
    "def nCr(n,r):\n",
    "    fact = math.factorial\n",
    "    return fact(n)/(fact(r)*fact(n-r))\n",
    "\n",
    "def partial_dict_view(dictionary):\n",
    "    print({k: v for i, (k, v) in enumerate(dictionary.items()) if i < 6})"
   ]
  },
  {
   "cell_type": "markdown",
   "metadata": {},
   "source": [
    "Firstly create a dictionary which maps a cluster to the number of images it contains.  \n",
    "**NOTE:** a lot of people in the LFW dataset have only one image of them, hence there can be many clusters with only one image"
   ]
  },
  {
   "cell_type": "code",
   "execution_count": 10,
   "metadata": {},
   "outputs": [],
   "source": [
    "cluster_to_num_images = {}\n",
    "for node in graph.nodes:\n",
    "    if graph.nodes[node]['pseudoClass'] in cluster_to_num_images:\n",
    "        cluster_to_num_images[graph.nodes[node]['pseudoClass']] += 1\n",
    "    else:\n",
    "        cluster_to_num_images[graph.nodes[node]['pseudoClass']] = 1"
   ]
  },
  {
   "cell_type": "code",
   "execution_count": 15,
   "metadata": {},
   "outputs": [
    {
     "name": "stdout",
     "output_type": "stream",
     "text": [
      "{1: 1, 2: 1, 3: 1, 4: 1, 5: 1, 7: 4}\n"
     ]
    }
   ],
   "source": [
    "partial_dict_view(cluster_to_num_images)"
   ]
  },
  {
   "cell_type": "markdown",
   "metadata": {},
   "source": [
    "Now let's compute the total positives\n",
    "(add explanation later)"
   ]
  },
  {
   "cell_type": "code",
   "execution_count": 19,
   "metadata": {},
   "outputs": [],
   "source": [
    "total_positives = 0\n",
    "for cluster,num_images in cluster_to_num_images.items():\n",
    "    # It's a positive only if a pair can be formed\n",
    "    if num_images >= 2:\n",
    "        total_positives += nCr(num_images,2)"
   ]
  },
  {
   "cell_type": "code",
   "execution_count": 20,
   "metadata": {},
   "outputs": [
    {
     "name": "stdout",
     "output_type": "stream",
     "text": [
      "345969.0\n"
     ]
    }
   ],
   "source": [
    "print(total_positives)"
   ]
  },
  {
   "cell_type": "code",
   "execution_count": null,
   "metadata": {},
   "outputs": [],
   "source": []
  }
 ],
 "metadata": {
  "kernelspec": {
   "display_name": "Python [conda env:tensorflow-cpu] *",
   "language": "python",
   "name": "conda-env-tensorflow-cpu-py"
  },
  "language_info": {
   "codemirror_mode": {
    "name": "ipython",
    "version": 3
   },
   "file_extension": ".py",
   "mimetype": "text/x-python",
   "name": "python",
   "nbconvert_exporter": "python",
   "pygments_lexer": "ipython3",
   "version": "3.8.5"
  }
 },
 "nbformat": 4,
 "nbformat_minor": 4
}
